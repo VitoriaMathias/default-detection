{
 "cells": [
  {
   "cell_type": "code",
   "execution_count": 1,
   "id": "56618b0b",
   "metadata": {},
   "outputs": [],
   "source": [
    "import pickle\n",
    "import pandas as pd\n",
    "import numpy as np"
   ]
  },
  {
   "cell_type": "code",
   "execution_count": 2,
   "id": "28be7e25",
   "metadata": {},
   "outputs": [],
   "source": [
    "model_pkl_file = \"../models/default_xgboost_classifier.pkl\" \n",
    "\n",
    "with open(model_pkl_file, 'rb') as file:  \n",
    "    model = pickle.load(file)"
   ]
  },
  {
   "cell_type": "markdown",
   "id": "7ca659f1",
   "metadata": {},
   "source": [
    "Como observamos no notebook anterior que um threshold de corte mais interessante para o problema é de 0.29, vamos fazer uma pequena função para aplicá-lo:"
   ]
  },
  {
   "cell_type": "code",
   "execution_count": 3,
   "id": "9d26fcac",
   "metadata": {},
   "outputs": [],
   "source": [
    "def model_predict(model,features_dict):\n",
    "    y_pred = model.predict(pd.DataFrame([features_dict]))\n",
    "    if y_pred<0.29:\n",
    "        y_pred=0\n",
    "    else:\n",
    "        y_pred=1\n",
    "    return({\"default\": y_pred})"
   ]
  },
  {
   "cell_type": "code",
   "execution_count": 4,
   "id": "e1be5e64",
   "metadata": {},
   "outputs": [],
   "source": [
    "example={'valor_protestos': 0.0,\n",
    "     'acao_judicial_valor': 0.0,\n",
    "     'dividas_vencidas_qtd': 0.0,\n",
    "     'month': 2.0,\n",
    "     'year': 2019.0,\n",
    "     'default_3months': 0.0,\n",
    "     'ioi_36months': 171.09559230317006,\n",
    "     'ioi_3months': 18.247505997651142,\n",
    "     'valor_vencido': 0.0,\n",
    "     'valor_quitado': 8084.7977298178575,\n",
    "     'quant_protestos': 0.0,\n",
    "     'quant_acao_judicial': 0.0,\n",
    "     'valor_total_pedido': 4279.491174562848,\n",
    "     'opcao_tributaria_isento': 0.0,\n",
    "     'opcao_tributaria_lucro presumido': 0.0,\n",
    "     'opcao_tributaria_lucro real': 0.0,\n",
    "     'opcao_tributaria_missing': 0.0,\n",
    "     'opcao_tributaria_simples nacional': 1.0}"
   ]
  },
  {
   "cell_type": "code",
   "execution_count": 5,
   "id": "76f7879c",
   "metadata": {},
   "outputs": [
    {
     "data": {
      "text/plain": [
       "{'default': 1}"
      ]
     },
     "execution_count": 5,
     "metadata": {},
     "output_type": "execute_result"
    }
   ],
   "source": [
    "model_predict(model,example)"
   ]
  },
  {
   "cell_type": "code",
   "execution_count": null,
   "id": "7c75207c",
   "metadata": {},
   "outputs": [],
   "source": []
  }
 ],
 "metadata": {
  "kernelspec": {
   "display_name": "Python 3 (ipykernel)",
   "language": "python",
   "name": "python3"
  },
  "language_info": {
   "codemirror_mode": {
    "name": "ipython",
    "version": 3
   },
   "file_extension": ".py",
   "mimetype": "text/x-python",
   "name": "python",
   "nbconvert_exporter": "python",
   "pygments_lexer": "ipython3",
   "version": "3.9.12"
  }
 },
 "nbformat": 4,
 "nbformat_minor": 5
}
